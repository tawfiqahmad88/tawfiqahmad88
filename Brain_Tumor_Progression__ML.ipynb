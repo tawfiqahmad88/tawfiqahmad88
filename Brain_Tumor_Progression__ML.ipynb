{
  "cells": [
    {
      "cell_type": "markdown",
      "metadata": {
        "id": "view-in-github",
        "colab_type": "text"
      },
      "source": [
        "<a href=\"https://colab.research.google.com/github/tawfiqahmad88/tawfiqahmad88/blob/main/Brain_Tumor_Progression__ML.ipynb\" target=\"_parent\"><img src=\"https://colab.research.google.com/assets/colab-badge.svg\" alt=\"Open In Colab\"/></a>"
      ]
    },
    {
      "cell_type": "markdown",
      "source": [
        ""
      ],
      "metadata": {
        "id": "Ivr-0sYus92A"
      }
    },
    {
      "cell_type": "markdown",
      "source": [
        "## **Brain Tumor Progression** \n",
        "**SUPERVISED BY Dr. Öğr : Fidan KAYA GÜLAĞIZ**\n",
        "\n",
        "**Prepared By : TAWFIQ AL AHMAD** "
      ],
      "metadata": {
        "id": "2-VgKGj3Eokk"
      }
    },
    {
      "cell_type": "markdown",
      "metadata": {
        "id": "CLZw1ieBQJDr"
      },
      "source": [
        "# step 1: Installation and setup\n",
        "\n",
        "```\n",
        "\n"
      ]
    },
    {
      "cell_type": "code",
      "execution_count": null,
      "metadata": {
        "id": "puiu7brNVxU5"
      },
      "outputs": [],
      "source": [
        "import tensorflow as tf\n",
        "import numpy as np\n",
        "import pandas as pd\n",
        "import matplotlib.pyplot as plt\n",
        "import seaborn as sns"
      ]
    },
    {
      "cell_type": "markdown",
      "metadata": {
        "id": "iWaVhvgJQLUS",
        "tags": []
      },
      "source": [
        "# Step 2: reading the dataset \n",
        "\n"
      ]
    },
    {
      "cell_type": "code",
      "execution_count": null,
      "metadata": {
        "id": "KSmw1YvyWvw3",
        "tags": []
      },
      "outputs": [],
      "source": [
        "dataset = pd.read_csv('scans_data.csv')\n",
        "dataset = dataset[['ImageOrientationPatient0','ImageOrientationPatient1','ImageOrientationPatient2','ImageOrientationPatient3','ImageOrientationPatient4','ImageOrientationPatient5','ImagePositionPatient0','ImagePositionPatient1','ImagePositionPatient2','WindowCenter','WindowWidth','SeriesDescription']]"
      ]
    },
    {
      "cell_type": "markdown",
      "metadata": {
        "id": "vMA6mvnNQpoQ"
      },
      "source": [
        "#step 3: Data preprocessing\n"
      ]
    },
    {
      "cell_type": "code",
      "execution_count": null,
      "metadata": {
        "colab": {
          "base_uri": "https://localhost:8080/"
        },
        "id": "w9PdfcC-WyAr",
        "outputId": "5674dc4b-04f7-427a-fc13-db5d293e8577"
      },
      "outputs": [
        {
          "data": {
            "text/plain": [
              "(8798, 12)"
            ]
          },
          "execution_count": 6,
          "metadata": {},
          "output_type": "execute_result"
        }
      ],
      "source": [
        "dataset.shape"
      ]
    },
    {
      "cell_type": "code",
      "execution_count": null,
      "metadata": {
        "colab": {
          "base_uri": "https://localhost:8080/"
        },
        "id": "9MEGQbuUW5zG",
        "outputId": "a5859817-0549-4927-cd19-bb8a8f871840"
      },
      "outputs": [
        {
          "data": {
            "text/plain": [
              "ImageOrientationPatient0    0\n",
              "ImageOrientationPatient1    0\n",
              "ImageOrientationPatient2    0\n",
              "ImageOrientationPatient3    0\n",
              "ImageOrientationPatient4    0\n",
              "ImageOrientationPatient5    0\n",
              "ImagePositionPatient0       0\n",
              "ImagePositionPatient1       0\n",
              "ImagePositionPatient2       0\n",
              "WindowCenter                0\n",
              "WindowWidth                 0\n",
              "SeriesDescription           0\n",
              "dtype: int64"
            ]
          },
          "execution_count": 7,
          "metadata": {},
          "output_type": "execute_result"
        }
      ],
      "source": [
        "#checking the null values in each column\n",
        "dataset.isnull().sum()"
      ]
    },
    {
      "cell_type": "code",
      "execution_count": null,
      "metadata": {
        "colab": {
          "base_uri": "https://localhost:8080/"
        },
        "id": "w7R7_ujwXI3L",
        "outputId": "872aaa9e-71d5-4077-9841-086530d664d2"
      },
      "outputs": [
        {
          "data": {
            "text/plain": [
              "(8798, 12)"
            ]
          },
          "execution_count": 8,
          "metadata": {},
          "output_type": "execute_result"
        }
      ],
      "source": [
        "dataset.shape"
      ]
    },
    {
      "cell_type": "code",
      "execution_count": null,
      "metadata": {
        "colab": {
          "base_uri": "https://localhost:8080/"
        },
        "id": "kE0dZj3GXbeA",
        "outputId": "70178b0f-dbe3-4ebc-bbf8-deb3fa56a806"
      },
      "outputs": [
        {
          "data": {
            "text/plain": [
              "<bound method IndexOpsMixin.value_counts of 0       sRCBV_reg\n",
              "1       sRCBV_reg\n",
              "2       sRCBV_reg\n",
              "3       sRCBV_reg\n",
              "4       sRCBV_reg\n",
              "          ...    \n",
              "8793    T1pre_reg\n",
              "8794    T1pre_reg\n",
              "8795    T1pre_reg\n",
              "8796    T1pre_reg\n",
              "8797    T1pre_reg\n",
              "Name: SeriesDescription, Length: 8798, dtype: object>"
            ]
          },
          "execution_count": 9,
          "metadata": {},
          "output_type": "execute_result"
        }
      ],
      "source": [
        "dataset['SeriesDescription'].value_counts"
      ]
    },
    {
      "cell_type": "code",
      "execution_count": null,
      "metadata": {
        "colab": {
          "base_uri": "https://localhost:8080/",
          "height": 352
        },
        "id": "hkUwnaFMXhDP",
        "outputId": "3017fbbf-a2e7-4528-fa0b-58c800bd5d4a"
      },
      "outputs": [
        {
          "name": "stderr",
          "output_type": "stream",
          "text": [
            "C:\\Users\\ghayt\\miniconda3\\lib\\site-packages\\seaborn\\_decorators.py:36: FutureWarning: Pass the following variable as a keyword arg: x. From version 0.12, the only valid positional argument will be `data`, and passing other arguments without an explicit keyword will result in an error or misinterpretation.\n",
            "  warnings.warn(\n"
          ]
        },
        {
          "data": {
            "text/plain": [
              "<AxesSubplot:xlabel='SeriesDescription', ylabel='count'>"
            ]
          },
          "execution_count": 10,
          "metadata": {},
          "output_type": "execute_result"
        },
        {
          "data": {
            "image/png": "[encoded data removed]",
            "text/plain": [
              "<Figure size 432x288 with 1 Axes>"
            ]
          },
          "metadata": {
            "needs_background": "light"
          },
          "output_type": "display_data"
        }
      ],
      "source": [
        "sns.countplot(dataset['SeriesDescription'],label='count')"
      ]
    },
    {
      "cell_type": "code",
      "execution_count": null,
      "metadata": {
        "id": "W-XXLzsyXner"
      },
      "outputs": [],
      "source": [
        "#independent variables(matrix of features)\n",
        "x= dataset.drop(labels=['SeriesDescription'], axis=1)\n",
        "#dependent variables\n",
        "y=dataset['SeriesDescription']"
      ]
    },
    {
      "cell_type": "code",
      "execution_count": null,
      "metadata": {
        "colab": {
          "base_uri": "https://localhost:8080/",
          "height": 270
        },
        "id": "JJWYA7dIXq4H",
        "outputId": "8f3cdc7d-45b8-4923-94fc-b4699e91274d"
      },
      "outputs": [
        {
          "data": {
            "text/html": [
              "<div>\n",
              "<style scoped>\n",
              "    .dataframe tbody tr th:only-of-type {\n",
              "        vertical-align: middle;\n",
              "    }\n",
              "\n",
              "    .dataframe tbody tr th {\n",
              "        vertical-align: top;\n",
              "    }\n",
              "\n",
              "    .dataframe thead th {\n",
              "        text-align: right;\n",
              "    }\n",
              "</style>\n",
              "<table border=\"1\" class=\"dataframe\">\n",
              "  <thead>\n",
              "    <tr style=\"text-align: right;\">\n",
              "      <th></th>\n",
              "      <th>ImageOrientationPatient0</th>\n",
              "      <th>ImageOrientationPatient1</th>\n",
              "      <th>ImageOrientationPatient2</th>\n",
              "      <th>ImageOrientationPatient3</th>\n",
              "      <th>ImageOrientationPatient4</th>\n",
              "      <th>ImageOrientationPatient5</th>\n",
              "      <th>ImagePositionPatient0</th>\n",
              "      <th>ImagePositionPatient1</th>\n",
              "      <th>ImagePositionPatient2</th>\n",
              "      <th>WindowCenter</th>\n",
              "      <th>WindowWidth</th>\n",
              "    </tr>\n",
              "  </thead>\n",
              "  <tbody>\n",
              "    <tr>\n",
              "      <th>0</th>\n",
              "      <td>0.999509</td>\n",
              "      <td>0.002133</td>\n",
              "      <td>0.031265</td>\n",
              "      <td>2.254845e-10</td>\n",
              "      <td>0.997682</td>\n",
              "      <td>-0.068049</td>\n",
              "      <td>-95.654477</td>\n",
              "      <td>-104.776783</td>\n",
              "      <td>-38.473867</td>\n",
              "      <td>17130.140625</td>\n",
              "      <td>34260.28125</td>\n",
              "    </tr>\n",
              "    <tr>\n",
              "      <th>1</th>\n",
              "      <td>0.999509</td>\n",
              "      <td>0.002133</td>\n",
              "      <td>0.031265</td>\n",
              "      <td>2.254845e-10</td>\n",
              "      <td>0.997682</td>\n",
              "      <td>-0.068049</td>\n",
              "      <td>-95.043385</td>\n",
              "      <td>-106.103081</td>\n",
              "      <td>-57.919107</td>\n",
              "      <td>17130.140625</td>\n",
              "      <td>34260.28125</td>\n",
              "    </tr>\n",
              "    <tr>\n",
              "      <th>2</th>\n",
              "      <td>0.999509</td>\n",
              "      <td>0.002133</td>\n",
              "      <td>0.031265</td>\n",
              "      <td>2.254845e-10</td>\n",
              "      <td>0.997682</td>\n",
              "      <td>-0.068049</td>\n",
              "      <td>-95.450780</td>\n",
              "      <td>-105.218882</td>\n",
              "      <td>-44.955614</td>\n",
              "      <td>17130.140625</td>\n",
              "      <td>34260.28125</td>\n",
              "    </tr>\n",
              "    <tr>\n",
              "      <th>3</th>\n",
              "      <td>0.999509</td>\n",
              "      <td>0.002133</td>\n",
              "      <td>0.031265</td>\n",
              "      <td>2.254845e-10</td>\n",
              "      <td>0.997682</td>\n",
              "      <td>-0.068049</td>\n",
              "      <td>-99.524722</td>\n",
              "      <td>-96.376894</td>\n",
              "      <td>84.679342</td>\n",
              "      <td>17130.140625</td>\n",
              "      <td>34260.28125</td>\n",
              "    </tr>\n",
              "    <tr>\n",
              "      <th>4</th>\n",
              "      <td>0.999509</td>\n",
              "      <td>0.002133</td>\n",
              "      <td>0.031265</td>\n",
              "      <td>2.254845e-10</td>\n",
              "      <td>0.997682</td>\n",
              "      <td>-0.068049</td>\n",
              "      <td>-96.876659</td>\n",
              "      <td>-102.124186</td>\n",
              "      <td>0.416620</td>\n",
              "      <td>17130.140625</td>\n",
              "      <td>34260.28125</td>\n",
              "    </tr>\n",
              "  </tbody>\n",
              "</table>\n",
              "</div>"
            ],
            "text/plain": [
              "   ImageOrientationPatient0  ImageOrientationPatient1  \\\n",
              "0                  0.999509                  0.002133   \n",
              "1                  0.999509                  0.002133   \n",
              "2                  0.999509                  0.002133   \n",
              "3                  0.999509                  0.002133   \n",
              "4                  0.999509                  0.002133   \n",
              "\n",
              "   ImageOrientationPatient2  ImageOrientationPatient3  \\\n",
              "0                  0.031265              2.254845e-10   \n",
              "1                  0.031265              2.254845e-10   \n",
              "2                  0.031265              2.254845e-10   \n",
              "3                  0.031265              2.254845e-10   \n",
              "4                  0.031265              2.254845e-10   \n",
              "\n",
              "   ImageOrientationPatient4  ImageOrientationPatient5  ImagePositionPatient0  \\\n",
              "0                  0.997682                 -0.068049             -95.654477   \n",
              "1                  0.997682                 -0.068049             -95.043385   \n",
              "2                  0.997682                 -0.068049             -95.450780   \n",
              "3                  0.997682                 -0.068049             -99.524722   \n",
              "4                  0.997682                 -0.068049             -96.876659   \n",
              "\n",
              "   ImagePositionPatient1  ImagePositionPatient2  WindowCenter  WindowWidth  \n",
              "0            -104.776783             -38.473867  17130.140625  34260.28125  \n",
              "1            -106.103081             -57.919107  17130.140625  34260.28125  \n",
              "2            -105.218882             -44.955614  17130.140625  34260.28125  \n",
              "3             -96.376894              84.679342  17130.140625  34260.28125  \n",
              "4            -102.124186               0.416620  17130.140625  34260.28125  "
            ]
          },
          "execution_count": 12,
          "metadata": {},
          "output_type": "execute_result"
        }
      ],
      "source": [
        "x.head()"
      ]
    },
    {
      "cell_type": "markdown",
      "metadata": {
        "id": "xgApYghyZW4y"
      },
      "source": [
        ""
      ]
    },
    {
      "cell_type": "code",
      "execution_count": null,
      "metadata": {
        "colab": {
          "base_uri": "https://localhost:8080/"
        },
        "id": "0YYIZMn4XyGc",
        "outputId": "bd960f7b-88b3-4186-e6c5-c472ac772ad0"
      },
      "outputs": [
        {
          "data": {
            "text/plain": [
              "0    sRCBV_reg\n",
              "1    sRCBV_reg\n",
              "2    sRCBV_reg\n",
              "3    sRCBV_reg\n",
              "4    sRCBV_reg\n",
              "Name: SeriesDescription, dtype: object"
            ]
          },
          "execution_count": 13,
          "metadata": {},
          "output_type": "execute_result"
        }
      ],
      "source": [
        "y.head()"
      ]
    },
    {
      "cell_type": "code",
      "execution_count": null,
      "metadata": {
        "id": "mGawbTASX393"
      },
      "outputs": [],
      "source": [
        "#Encoding the categorical data\n",
        "from sklearn.preprocessing import LabelEncoder\n",
        "label_1= LabelEncoder()\n",
        "y=label_1.fit_transform(y)"
      ]
    },
    {
      "cell_type": "code",
      "execution_count": null,
      "metadata": {
        "colab": {
          "base_uri": "https://localhost:8080/"
        },
        "id": "YJQvN067YEOu",
        "outputId": "59f84bb0-89c8-458a-991c-e81f81a2bffc"
      },
      "outputs": [
        {
          "data": {
            "text/plain": [
              "array([9, 9, 9, ..., 4, 4, 4])"
            ]
          },
          "execution_count": 15,
          "metadata": {},
          "output_type": "execute_result"
        }
      ],
      "source": [
        "y"
      ]
    },
    {
      "cell_type": "code",
      "execution_count": null,
      "metadata": {
        "colab": {
          "base_uri": "https://localhost:8080/"
        },
        "id": "1hok3em7YKcR",
        "outputId": "de8a279d-55f3-44ee-baff-25890968bd35"
      },
      "outputs": [
        {
          "data": {
            "text/plain": [
              "((8798, 11), (8798,))"
            ]
          },
          "execution_count": 16,
          "metadata": {},
          "output_type": "execute_result"
        }
      ],
      "source": [
        "x.shape,y.shape"
      ]
    },
    {
      "cell_type": "code",
      "execution_count": null,
      "metadata": {
        "id": "2aC83EICYNha"
      },
      "outputs": [],
      "source": [
        "#splitting the dataset into train and test set\n",
        "from sklearn.model_selection import train_test_split\n",
        "x_train,x_test,y_train,y_test = train_test_split(x,y,test_size=0.2, random_state=0)"
      ]
    },
    {
      "cell_type": "code",
      "execution_count": null,
      "metadata": {
        "colab": {
          "base_uri": "https://localhost:8080/"
        },
        "id": "euxl0QeYYXTJ",
        "outputId": "9395b11c-9a5c-4375-877e-9550eb71c188"
      },
      "outputs": [
        {
          "data": {
            "text/plain": [
              "((7038, 11), (1760, 11))"
            ]
          },
          "execution_count": 18,
          "metadata": {},
          "output_type": "execute_result"
        }
      ],
      "source": [
        "x_train.shape,x_test.shape"
      ]
    },
    {
      "cell_type": "code",
      "execution_count": null,
      "metadata": {
        "id": "RFNEcnnxYY_p"
      },
      "outputs": [],
      "source": [
        ""
      ]
    },
    {
      "cell_type": "markdown",
      "metadata": {
        "id": "9k9fMLW8RDNn"
      },
      "source": [
        "# Step4: building a function for the models used in this project:"
      ]
    },
    {
      "cell_type": "code",
      "execution_count": null,
      "metadata": {
        "id": "efddo00IYkAd"
      },
      "outputs": [],
      "source": [
        "def models(x_train,y_train):\n",
        "  #Using Logistic Regression Algorithm\n",
        "  from sklearn.linear_model import LogisticRegression\n",
        "  logre=LogisticRegression(random_state=0)\n",
        "  logre.fit(x_train,y_train)\n",
        "  #Using KNeighborClassifier method\n",
        "  from sklearn.neighbors import KNeighborsClassifier\n",
        "  KNC=KNeighborsClassifier(n_neighbors=5)\n",
        "  KNC.fit(x_train,y_train)\n",
        "  #Using SVM method\n",
        "  from sklearn.svm import SVC\n",
        "  classifier=SVC(kernel='linear', random_state=0)\n",
        "  classifier.fit(x_train,y_train)\n",
        "  #Using SVM method\n",
        "  from sklearn.svm import SVC\n",
        "  classifier1=SVC(kernel='rbf', random_state=0)\n",
        "  classifier1.fit(x_train,y_train)\n",
        "  #decisiontree\n",
        "  from sklearn.tree import DecisionTreeClassifier\n",
        "  DTC=DecisionTreeClassifier(criterion='entropy', random_state=0)\n",
        "  DTC.fit(x_train,y_train)\n",
        "  #RandomForest\n",
        "  from sklearn.ensemble import RandomForestClassifier\n",
        "  rforest=RandomForestClassifier(n_estimators=10,criterion='entropy', random_state=0)\n",
        "  rforest.fit(x_train,y_train)\n",
        "  print(\"Accuracy of KNeighborsClassifier model:\", KNC.score(x_test, y_test))\n",
        "  print(\"Accuracy of LogisticRegression model:\", logre.score(x_test, y_test))\n",
        "  print(\"Accuracy of SVC linear model:\", classifier.score(x_test, y_test))\n",
        "  print(\"Acuuracy of SVC rbf model :\", classifier1.score(x_test, y_test))\n",
        "  print(\"Acuuracy of DecisionTreeClassifier model:\", DTC.score(x_test, y_test))\n",
        "  print(\"Acuuracy of RandomForestClassifier model:\", rforest.score(x_test, y_test))\n",
        "  return KNC,logre,classifier,classifier1,DTC,rforest\n"
      ]
    },
    {
      "cell_type": "markdown",
      "metadata": {
        "id": "gLozhAHwRfsH"
      },
      "source": [
        "#Step5: Model prediction, confusion matrix and accuracy score of the models\n",
        "\n"
      ]
    },
    {
      "cell_type": "code",
      "execution_count": null,
      "metadata": {
        "colab": {
          "base_uri": "https://localhost:8080/"
        },
        "id": "10cr_dMsYp0F",
        "outputId": "8c6411a4-6ac9-49e5-bf39-58250a0522d0"
      },
      "outputs": [
        {
          "name": "stderr",
          "output_type": "stream",
          "text": [
            "C:\\Users\\ghayt\\miniconda3\\lib\\site-packages\\sklearn\\linear_model\\_logistic.py:814: ConvergenceWarning: lbfgs failed to converge (status=1):\n",
            "STOP: TOTAL NO. of ITERATIONS REACHED LIMIT.\n",
            "\n",
            "Increase the number of iterations (max_iter) or scale the data as shown in:\n",
            "    https://scikit-learn.org/stable/modules/preprocessing.html\n",
            "Please also refer to the documentation for alternative solver options:\n",
            "    https://scikit-learn.org/stable/modules/linear_model.html#logistic-regression\n",
            "  n_iter_i = _check_optimize_result(\n"
          ]
        },
        {
          "name": "stdout",
          "output_type": "stream",
          "text": [
            "Accuracy of KNeighborsClassifier model: 0.7880681818181818\n",
            "Accuracy of LogisticRegression model: 0.5306818181818181\n",
            "Accuracy of SVC linear model: 0.5892045454545455\n",
            "Acuuracy of SVC rbf model : 0.46761363636363634\n",
            "Acuuracy of DecisionTreeClassifier model: 0.975\n",
            "Acuuracy of RandomForestClassifier model: 0.9738636363636364\n"
          ]
        }
      ],
      "source": [
        "model=models(x_train,y_train)"
      ]
    },
    {
      "cell_type": "code",
      "execution_count": null,
      "metadata": {
        "colab": {
          "base_uri": "https://localhost:8080/"
        },
        "id": "Pdg2DuJyL6Xl",
        "outputId": "5ad50249-de55-486c-a4b9-a41842317da8"
      },
      "outputs": [
        {
          "name": "stdout",
          "output_type": "stream",
          "text": [
            "MOdel 0\n",
            "prediction: [2 4 5 ... 1 0 1]\n",
            "The confusion matrix is:\n",
            "[[175   0   0   0   6   0   0   0   0   0]\n",
            " [  0 172   0   0  14   0   0   0   0   0]\n",
            " [  0   0 167   0   0   0   0   0   1   0]\n",
            " [  7  19   0  92  36  41   0   0   0   0]\n",
            " [  1  14   0   1 154   0   0   0   0   0]\n",
            " [  0   7   0   2   2 188   0   0   0   0]\n",
            " [  0   0   0   0   0   0 171   0   0   0]\n",
            " [  0   0   7   0   0   0   0  69  92   0]\n",
            " [  0   0  12   0   0   0   0 111  52   0]\n",
            " [  0   0   0   0   0   0   0   0   0 147]]\n",
            "MOdel 1\n",
            "prediction: [2 3 1 ... 1 0 5]\n",
            "The confusion matrix is:\n",
            "[[125   0   0  21  22  13   0   0   0   0]\n",
            " [  1 133   0  13   6  33   0   0   0   0]\n",
            " [  0   0 168   0   0   0   0   0   0   0]\n",
            " [ 51  74   0  39  20  11   0   0   0   0]\n",
            " [ 46  65   0  22   8  29   0   0   0   0]\n",
            " [ 32  77   0  16  51  23   0   0   0   0]\n",
            " [  0   0   0   0   0   0 171   0   0   0]\n",
            " [  0   0  26   0   0   0   0   0 142   0]\n",
            " [  0   0  55   0   0   0   0   0 120   0]\n",
            " [  0   0   0   0   0   0   0   0   0 147]]\n",
            "MOdel 2\n",
            "prediction: [2 3 3 ... 3 0 1]\n",
            "The confusion matrix is:\n",
            "[[139   0   0  21   6  15   0   0   0   0]\n",
            " [  1 126   0  31   2  26   0   0   0   0]\n",
            " [  0   0 168   0   0   0   0   0   0   0]\n",
            " [ 45  57   0  69  13  11   0   0   0   0]\n",
            " [ 29  49   0  59  15  18   0   0   0   0]\n",
            " [ 45  41   0  60  26  27   0   0   0   0]\n",
            " [  0   0   0   0   0   0 171   0   0   0]\n",
            " [  0   0   0   0   0   0   0  99  69   0]\n",
            " [  0   0   0   0   0   0   0  99  76   0]\n",
            " [  0   0   0   0   0   0   0   0   0 147]]\n",
            "MOdel 3\n",
            "prediction: [2 1 1 ... 1 0 1]\n",
            "The confusion matrix is:\n",
            "[[181   0   0   0   0   0   0   0   0   0]\n",
            " [ 30 156   0   0   0   0   0   0   0   0]\n",
            " [  0   0 168   0   0   0   0   0   0   0]\n",
            " [ 87 108   0   0   0   0   0   0   0   0]\n",
            " [ 74  93   0   3   0   0   0   0   0   0]\n",
            " [ 87 112   0   0   0   0   0   0   0   0]\n",
            " [  0   0   0   0   0   0 171   0   0   0]\n",
            " [  0   0 168   0   0   0   0   0   0   0]\n",
            " [  0   0 175   0   0   0   0   0   0   0]\n",
            " [  0   0   0   0   0   0   0   0   0 147]]\n",
            "MOdel 4\n",
            "prediction: [2 4 5 ... 1 0 1]\n",
            "The confusion matrix is:\n",
            "[[180   0   0   1   0   0   0   0   0   0]\n",
            " [  0 186   0   0   0   0   0   0   0   0]\n",
            " [  0   0 168   0   0   0   0   0   0   0]\n",
            " [  1   2   0 163  17  12   0   0   0   0]\n",
            " [  0   0   0   3 167   0   0   0   0   0]\n",
            " [  2   0   0   4   2 191   0   0   0   0]\n",
            " [  0   0   0   0   0   0 171   0   0   0]\n",
            " [  0   0   0   0   0   0   0 168   0   0]\n",
            " [  0   0   0   0   0   0   0   0 175   0]\n",
            " [  0   0   0   0   0   0   0   0   0 147]]\n",
            "MOdel 5\n",
            "prediction: [2 4 5 ... 1 0 1]\n",
            "The confusion matrix is:\n",
            "[[181   0   0   0   0   0   0   0   0   0]\n",
            " [  0 186   0   0   0   0   0   0   0   0]\n",
            " [  0   0 168   0   0   0   0   0   0   0]\n",
            " [  5   8   0 152  20  10   0   0   0   0]\n",
            " [  0   0   0   1 169   0   0   0   0   0]\n",
            " [  0   0   0   2   0 197   0   0   0   0]\n",
            " [  0   0   0   0   0   0 171   0   0   0]\n",
            " [  0   0   0   0   0   0   0 168   0   0]\n",
            " [  0   0   0   0   0   0   0   0 175   0]\n",
            " [  0   0   0   0   0   0   0   0   0 147]]\n"
          ]
        }
      ],
      "source": [
        "#confusion matrix\n",
        "from sklearn.metrics import confusion_matrix, accuracy_score\n",
        "for i in range(len(model)):\n",
        "  print('MOdel',i)\n",
        "  y_pred=model[i].predict(x_test)\n",
        "  print('prediction:',y_pred)\n",
        "  cm=confusion_matrix(y_test,y_pred)\n",
        "  print('The confusion matrix is:')\n",
        "  print(cm)"
      ]
    },
    {
      "cell_type": "code",
      "execution_count": null,
      "metadata": {
        "id": "NyKlfBHBR1iC"
      },
      "outputs": [],
      "source": [
        ""
      ]
    },
    {
      "cell_type": "code",
      "execution_count": null,
      "metadata": {
        "id": "wbRpa4bisxXx"
      },
      "outputs": [],
      "source": [
        ""
      ]
    },
    {
      "cell_type": "code",
      "execution_count": null,
      "metadata": {
        "id": "B-Ri5bdjsxXx"
      },
      "outputs": [],
      "source": [
        ""
      ]
    }
  ],
  "metadata": {
    "colab": {
      "collapsed_sections": [],
      "name": "Brain_Tumor_Progression__ML.ipynb",
      "provenance": [],
      "include_colab_link": true
    },
    "kernelspec": {
      "display_name": "Python 3 (ipykernel)",
      "language": "python",
      "name": "python3"
    },
    "language_info": {
      "codemirror_mode": {
        "name": "ipython",
        "version": 3
      },
      "file_extension": ".py",
      "mimetype": "text/x-python",
      "name": "python",
      "nbconvert_exporter": "python",
      "pygments_lexer": "ipython3",
      "version": "3.9.5"
    }
  },
  "nbformat": 4,
  "nbformat_minor": 0
}